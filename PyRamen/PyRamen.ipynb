{
 "cells": [
  {
   "cell_type": "code",
   "execution_count": 18,
   "id": "d58458f1-8962-468d-bfc6-971b4250b169",
   "metadata": {},
   "outputs": [
    {
     "name": "stdout",
     "output_type": "stream",
     "text": [
      "{'spicy miso ramen': {'01-count': 9238, '02-revenue': 110856.0, '03-cogs': 46190.0, '04-profit': 64666.0}, 'tori paitan ramen': {'01-count': 9156, '02-revenue': 119028.0, '03-cogs': 54936.0, '04-profit': 64092.0}, 'truffle butter ramen': {'01-count': 8982, '02-revenue': 125748.0, '03-cogs': 62874.0, '04-profit': 62874.0}, 'tonkotsu ramen': {'01-count': 9288, '02-revenue': 120744.0, '03-cogs': 55728.0, '04-profit': 65016.0}, 'vegetarian spicy miso': {'01-count': 9216, '02-revenue': 110592.0, '03-cogs': 46080.0, '04-profit': 64512.0}, 'shio ramen': {'01-count': 9180, '02-revenue': 100980.0, '03-cogs': 45900.0, '04-profit': 55080.0}, 'miso crab ramen': {'01-count': 8890, '02-revenue': 106680.0, '03-cogs': 53340.0, '04-profit': 53340.0}, 'nagomi shoyu': {'01-count': 9132, '02-revenue': 100452.0, '03-cogs': 45660.0, '04-profit': 54792.0}, 'soft-shell miso crab ramen': {'01-count': 9130, '02-revenue': 127820.0, '03-cogs': 63910.0, '04-profit': 63910.0}, 'burnt garlic tonkotsu ramen': {'01-count': 9070, '02-revenue': 126980.0, '03-cogs': 54420.0, '04-profit': 72560.0}, 'vegetarian curry + king trumpet mushroom ramen': {'01-count': 8824, '02-revenue': 114712.0, '03-cogs': 61768.0, '04-profit': 52944.0}}\n"
     ]
    }
   ],
   "source": [
    "import csv\n",
    "\n",
    "menu_filepath = 'menu_data.csv'\n",
    "sales_filepath = 'sales_data.csv'\n",
    "\n",
    "# initialize lists to then munipulate them\n",
    "menu = []\n",
    "sales = []\n",
    "\n",
    "# use with statement and open menu_data.csv from file path\n",
    "with open(menu_filepath, 'r') as file:\n",
    "    reader = csv.reader(file)\n",
    "    next(reader)\n",
    "    for row in reader:\n",
    "        menu.append(row)\n",
    "\n",
    "# with statement to open sales_data.csv\n",
    "with open(sales_filepath, 'r') as file:\n",
    "    reader = csv.reader(file)\n",
    "    next(reader)\n",
    "    for row in reader:\n",
    "        sales.append(row)\n",
    "\n",
    "# initialize empty report dictionary\n",
    "report = {}\n",
    "\n",
    "# Loop through every row in the sales data\n",
    "for col in sales:\n",
    "    quantity = int(col[3])\n",
    "    sales_item = col[4]\n",
    "\n",
    "    # print(quantity)\n",
    "    # print(menu_item)\n",
    "\n",
    "    # Check if sales_item is already included in the report\n",
    "    if sales_item not in report:\n",
    "        # Initialize key-value pairs for the sales_item in the report\n",
    "        report[sales_item] = {\n",
    "            '01-count': 0,\n",
    "            '02-revenue': 0,\n",
    "            '03-cogs': 0,\n",
    "            '04-profit': 0\n",
    "        }\n",
    "\n",
    "    # Create nested loop by looping through every record in menu\n",
    "    for menu_col in menu:\n",
    "        item = menu_col[0]\n",
    "        price = float(menu_col[3])\n",
    "        cost = float(menu_col[4])\n",
    "\n",
    "        # print(item)\n",
    "        # print(price)\n",
    "        # print(cost)\n",
    "\n",
    "        if sales_item == item:\n",
    "            profit = price - cost\n",
    "\n",
    "            # Cumulatively add the values to the corresponding metrics in the report\n",
    "            report[sales_item]['01-count'] += quantity\n",
    "            report[sales_item]['02-revenue'] += price * quantity\n",
    "            report[sales_item]['03-cogs'] += cost * quantity\n",
    "            report[sales_item]['04-profit'] += profit * quantity\n",
    "        # else:\n",
    "        #     print(f'{sales_item} does not equal {item}! NO MATCH!')\n",
    "\n",
    "# Write out the contents of the report to a text file called 'report'\n",
    "with open('report.txt', 'w') as file:\n",
    "    for item, metrics in report.items():\n",
    "        file.write(f'{item}\\n')\n",
    "        for metric, value in metrics.items():\n",
    "            file.write(f'{metric}: {value}\\n')\n",
    "        file.write('\\n')\n",
    "\n",
    "# print report\n",
    "print(report)"
   ]
  },
  {
   "cell_type": "code",
   "execution_count": null,
   "id": "fe22f34e-9c50-4ce0-a062-d532f9ae7af3",
   "metadata": {},
   "outputs": [],
   "source": []
  },
  {
   "cell_type": "code",
   "execution_count": null,
   "id": "34ec3016-b8e6-48a2-ba3f-14a78c70fb55",
   "metadata": {},
   "outputs": [],
   "source": []
  }
 ],
 "metadata": {
  "kernelspec": {
   "display_name": "Python 3 (ipykernel)",
   "language": "python",
   "name": "python3"
  },
  "language_info": {
   "codemirror_mode": {
    "name": "ipython",
    "version": 3
   },
   "file_extension": ".py",
   "mimetype": "text/x-python",
   "name": "python",
   "nbconvert_exporter": "python",
   "pygments_lexer": "ipython3",
   "version": "3.11.3"
  }
 },
 "nbformat": 4,
 "nbformat_minor": 5
}
