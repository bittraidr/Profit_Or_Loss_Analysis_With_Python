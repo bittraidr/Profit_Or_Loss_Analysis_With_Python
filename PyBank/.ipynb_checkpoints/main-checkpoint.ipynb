{
 "cells": [
  {
   "cell_type": "code",
   "execution_count": 1,
   "id": "1bd608c3-35db-453b-b78f-af83ebd8f411",
   "metadata": {},
   "outputs": [],
   "source": [
    "#import pandas and path\n",
    "import pandas as pd\n",
    "from pathlib import Path\n"
   ]
  },
  {
   "cell_type": "code",
   "execution_count": 2,
   "id": "c330f8a7-429d-48f4-b9b1-5937b4f0d364",
   "metadata": {},
   "outputs": [],
   "source": [
    "#import csv file\n",
    "filepath = \"budget_data.csv\""
   ]
  },
  {
   "cell_type": "code",
   "execution_count": 3,
   "id": "bc964118-0216-41fc-bd67-cf048b3d0b45",
   "metadata": {},
   "outputs": [
    {
     "name": "stdout",
     "output_type": "stream",
     "text": [
      "Total Months: 86\n"
     ]
    }
   ],
   "source": [
    "#declare variable, set equal to pd read csv\n",
    "data = pd.read_csv(filepath)\n",
    "#get number of months\n",
    "num_months = data.shape[0]\n",
    "print(\"Total Months:\", num_months)"
   ]
  },
  {
   "cell_type": "code",
   "execution_count": 4,
   "id": "451ffedf-a8e7-43a9-811b-32ab4c0d61e5",
   "metadata": {},
   "outputs": [
    {
     "name": "stdout",
     "output_type": "stream",
     "text": [
      "The total profit/loss is: 38382578\n"
     ]
    }
   ],
   "source": [
    "#get the total profit/loss of column two\n",
    "total_pnl = data.iloc[:, 1].sum()\n",
    "print(\"The total profit/loss is:\", total_pnl)"
   ]
  },
  {
   "cell_type": "code",
   "execution_count": 5,
   "id": "0d65e7ff-2093-46bb-9f03-1f244808e497",
   "metadata": {},
   "outputs": [
    {
     "name": "stdout",
     "output_type": "stream",
     "text": [
      "The average of the changes in profit/loss is: -2315.1176470588234\n"
     ]
    }
   ],
   "source": [
    "#get the average of the changes in profit/losses entire period\n",
    "change_pnl = data.iloc[:, 1].diff()\n",
    "average = change_pnl.mean()\n",
    "print(\"The average of the changes in profit/loss is:\", average)\n"
   ]
  },
  {
   "cell_type": "code",
   "execution_count": 6,
   "id": "eaeb9865-ad8b-4017-9de1-d6c75a7a9fbb",
   "metadata": {},
   "outputs": [
    {
     "name": "stdout",
     "output_type": "stream",
     "text": [
      "1926159.0\n",
      "Feb-2012\n",
      "The greatest increase in Profits: Feb-2012, 1926159.0\n"
     ]
    }
   ],
   "source": [
    "#get the greatest increase in profits (date and amount) over entire period\n",
    "#get max increase\n",
    "max_increase = change_pnl.max()\n",
    "print(max_increase)\n",
    "#get date of max increase\n",
    "date_max = data.loc[change_pnl.idxmax(), 'Date']\n",
    "print(date_max)\n",
    "print(f\"The greatest increase in Profits: {date_max}, {max_increase}\")"
   ]
  },
  {
   "cell_type": "code",
   "execution_count": 48,
   "id": "eb46dfdd-3c06-4857-aafb-d9759bf36e91",
   "metadata": {},
   "outputs": [
    {
     "name": "stdout",
     "output_type": "stream",
     "text": [
      "-2196167.0\n",
      "Sep-2013\n",
      "The greatest Decrease in Profits: Sep-2013, -2196167.0\n"
     ]
    }
   ],
   "source": [
    "#get the greatest decrease in profits (date and amount) over entire period\n",
    "#get max decrease\n",
    "max_decrease = change_pnl.min()\n",
    "print(max_decrease)\n",
    "#get date of max decrease\n",
    "date_min = data.loc[change_pnl.idxmin(), 'Date']\n",
    "print(date_min)\n",
    "print(f\"The greatest Decrease in Profits: {date_min}, {max_decrease}\")"
   ]
  },
  {
   "cell_type": "code",
   "execution_count": 53,
   "id": "c037599d-2796-44c4-83fc-a69c4025eb9e",
   "metadata": {},
   "outputs": [],
   "source": [
    "#write the results to a txt file\n",
    "with open('results.txt', 'w') as file:\n",
    "    #write header\n",
    "    file.write(\"Financial Analysis\\n\")\n",
    "    file.write(\"------------------\\n\")\n",
    "    #write number of months\n",
    "    file.write(f\"Number of months: {num_months}\\n\")\n",
    "    #write total profit/loss\n",
    "    file.write(f\"The total Profit/Loss is: {total_pnl}\\n\")\n",
    "    #write average change in profit/loss\n",
    "    file.write(f\"The average of the changes in Profit/Loss is: {average}\\n\")\n",
    "    #write greated increase and date\n",
    "    file.write(f\"Date and Amount of Greatest Increase: {date_max}, {max_increase}\\n\")\n",
    "    #write greatest decrease and date\n",
    "    file.write(f\"Date and Amount of Greatest Decrease: {date_min}, {max_decrease}\\n\")"
   ]
  },
  {
   "cell_type": "code",
   "execution_count": null,
   "id": "adbd9c62-290e-455f-938f-12a02a7d99b1",
   "metadata": {},
   "outputs": [],
   "source": []
  },
  {
   "cell_type": "code",
   "execution_count": null,
   "id": "0903499c-a78d-4b25-bc49-3028aef3a5bf",
   "metadata": {},
   "outputs": [],
   "source": []
  },
  {
   "cell_type": "code",
   "execution_count": null,
   "id": "ac3ee6de-5fe4-4780-8f95-ab65f88ec90e",
   "metadata": {},
   "outputs": [],
   "source": []
  }
 ],
 "metadata": {
  "kernelspec": {
   "display_name": "Python 3 (ipykernel)",
   "language": "python",
   "name": "python3"
  },
  "language_info": {
   "codemirror_mode": {
    "name": "ipython",
    "version": 3
   },
   "file_extension": ".py",
   "mimetype": "text/x-python",
   "name": "python",
   "nbconvert_exporter": "python",
   "pygments_lexer": "ipython3",
   "version": "3.11.3"
  }
 },
 "nbformat": 4,
 "nbformat_minor": 5
}
