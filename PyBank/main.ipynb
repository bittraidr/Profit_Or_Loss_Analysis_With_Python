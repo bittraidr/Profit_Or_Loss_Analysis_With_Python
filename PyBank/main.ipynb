{
 "cells": [
  {
   "cell_type": "code",
   "execution_count": 7,
   "id": "74a82748-a3ee-45e0-9e97-de272de7fe54",
   "metadata": {},
   "outputs": [
    {
     "name": "stdout",
     "output_type": "stream",
     "text": [
      "Financial Analysis\n",
      "------------------\n",
      "Number of months: 86\n",
      "The total Profit/Loss is: 38382578\n",
      "The average of the changes in Profit/Loss is: -2315.1176470588234\n",
      "Date and Amount of Greatest Increase: Feb-2012, 1926159\n",
      "Date and Amount of Greatest Decrease: Sep-2013, -2196167\n"
     ]
    }
   ],
   "source": [
    "import csv\n",
    "from pathlib import Path\n",
    "\n",
    "# Set the filepath of the CSV file\n",
    "filepath = \"budget_data.csv\"\n",
    "\n",
    "# Initialize variables\n",
    "num_months = 0\n",
    "total_pnl = 0\n",
    "previous_pnl = 0\n",
    "change_pnl = []\n",
    "max_increase = 0\n",
    "max_decrease = 0\n",
    "date_max = \"\"\n",
    "date_min = \"\"\n",
    "\n",
    "# Read the CSV file\n",
    "with open(filepath, 'r') as file:\n",
    "    csv_reader = csv.reader(file)\n",
    "    header = next(csv_reader)  # Skip the header row\n",
    "\n",
    "    # Process each row in the CSV file\n",
    "    for col in csv_reader:\n",
    "        # Count the number of months\n",
    "        num_months += 1\n",
    "\n",
    "        # Get the profit/loss value\n",
    "        pnl = int(col[1])\n",
    "        \n",
    "        # Calculate the total profit/loss\n",
    "        total_pnl += pnl\n",
    "\n",
    "        # Calculate the change in profit/loss\n",
    "        if num_months > 1:\n",
    "            change = pnl - previous_pnl\n",
    "            change_pnl.append(change)\n",
    "\n",
    "            # Check for the greatest increase and decrease\n",
    "            if change > max_increase:\n",
    "                max_increase = change\n",
    "                date_max = col[0]\n",
    "            elif change < max_decrease:\n",
    "                max_decrease = change\n",
    "                date_min = col[0]\n",
    "\n",
    "        # Update the previous profit/loss\n",
    "        previous_pnl = pnl\n",
    "\n",
    "        # print(previous_pnl)\n",
    "\n",
    "# Calculate the average change\n",
    "average = sum(change_pnl) / len(change_pnl)\n",
    "# print(average)\n",
    "\n",
    "# Print the results\n",
    "print(\"Financial Analysis\")\n",
    "print(\"------------------\")\n",
    "print(f\"Number of months: {num_months}\")\n",
    "print(f\"The total Profit/Loss is: {total_pnl}\")\n",
    "print(f\"The average of the changes in Profit/Loss is: {average}\")\n",
    "print(f\"Date and Amount of Greatest Increase: {date_max}, {max_increase}\")\n",
    "print(f\"Date and Amount of Greatest Decrease: {date_min}, {max_decrease}\")\n",
    "\n",
    "# Write the results to a text file\n",
    "with open('results.txt', 'w') as file:\n",
    "    file.write(\"Financial Analysis\\n\")\n",
    "    file.write(\"------------------\\n\")\n",
    "    file.write(f\"Number of months: {num_months}\\n\")\n",
    "    file.write(f\"The total Profit/Loss is: ${total_pnl}\\n\")\n",
    "    file.write(f\"The average of the changes in Profit/Loss is: ${average}\\n\")\n",
    "    file.write(f\"Date and Amount of Greatest Increase: {date_max}, ${max_increase}\\n\")\n",
    "    file.write(f\"Date and Amount of Greatest Decrease: {date_min}, ${max_decrease}\\n\")\n"
   ]
  },
  {
   "cell_type": "code",
   "execution_count": null,
   "id": "123f8e24-3204-4fa6-ae06-129a309e62ee",
   "metadata": {},
   "outputs": [],
   "source": []
  },
  {
   "cell_type": "code",
   "execution_count": null,
   "id": "4a54f63c-48b0-4d0b-814d-19a0355d8b5e",
   "metadata": {},
   "outputs": [],
   "source": []
  }
 ],
 "metadata": {
  "kernelspec": {
   "display_name": "Python 3 (ipykernel)",
   "language": "python",
   "name": "python3"
  },
  "language_info": {
   "codemirror_mode": {
    "name": "ipython",
    "version": 3
   },
   "file_extension": ".py",
   "mimetype": "text/x-python",
   "name": "python",
   "nbconvert_exporter": "python",
   "pygments_lexer": "ipython3",
   "version": "3.11.3"
  }
 },
 "nbformat": 4,
 "nbformat_minor": 5
}
